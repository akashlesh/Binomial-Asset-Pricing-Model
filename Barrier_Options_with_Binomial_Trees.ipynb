{
 "cells": [
  {
   "cell_type": "markdown",
   "id": "b97435a1-ec70-4b23-8678-20f540dbdfe0",
   "metadata": {},
   "source": [
    "# Barrier Options with the Binomial Asset Pricing Model \n",
    "A binomial tree is a representation of the intrinsic values an option may take at different time periods. The value of the option depends on the underlying stock or bond, and the value of the option at any node depends on the probability that the price of the underlying asset will either decrease or increase at any given node. <br />\n",
    "We will treat binomial tree as a network with nodes $(i,j)$ with $i$ representing the time steps and $j$ representing the number of ordered price outcome, lowest, or bottom of tree, to highest. We will be using a generic timing wrapper function to judge the time performance of using numpy arrays over for loops to iterate over $j$ nodes in each time step $i$."
   ]
  },
  {
   "cell_type": "code",
   "execution_count": 1,
   "id": "654568d6-65fe-48c8-b93e-b58766bd8eae",
   "metadata": {},
   "outputs": [],
   "source": [
    "import numpy as np\n",
    "from functools import wraps\n",
    "from time import time\n"
   ]
  },
  {
   "cell_type": "code",
   "execution_count": 2,
   "id": "0998c23e-162c-488c-88c2-a83fe4f4ba4f",
   "metadata": {},
   "outputs": [],
   "source": [
    "def timing(f):\n",
    "    @wraps(f)\n",
    "    def wrap(*args, **kw):\n",
    "        ts = time()\n",
    "        result = f(*args, **kw)\n",
    "        te = time()\n",
    "        print('func:%r args:[%r, %r] took: %2.4f sec' % \\\n",
    "          (f.__name__, args, kw, te-ts))\n",
    "        return result\n",
    "    return wrap\n"
   ]
  },
  {
   "cell_type": "markdown",
   "id": "04a2d64a-03e1-4648-bead-9c77005d0da4",
   "metadata": {},
   "source": [
    "# Binomial Tree Representation\n",
    "Stock tree can be represented using nodes $(i,j)$ and intial stock price $S_0$\n",
    "$$S_{i,j}=S_0u^jd^{i−j}$$\n",
    "$C_{i,j}$ represents contract price at each node $(i,j)$. Where $C_{N,j}$ represents final payoff function that we can define.\n",
    "For this tutorial will will price a European Call, so $$C_{N,j}=max(S_{N,j}−K,0)$$\n",
    "# Barrier Option Characteristics\n",
    "For an up-and-out barrier put option: if $T=t_N$ then at the terminal nodes, $C^j_N=(K−S^j_N)+Ind(S^j_N<H)$ <br />\n",
    "For all other parts of the tree at nodes $(i,j)$: <br />\n",
    "When $t_n\\in T$ and $S^j_i \\geq H$ then $C^j_i=0$ <br />\n",
    "When $t_n\\notin T$ or $S^j_i<H$ then  $C^j_i=e^{−r\\Delta T}[q^j_iC^{j+1}_{i+1}+(1−q^j_i)C^{j−1}_{i+1}]$"
   ]
  },
  {
   "cell_type": "code",
   "execution_count": 3,
   "id": "6d2f8132-ecd2-4303-9eac-efd8949085f4",
   "metadata": {},
   "outputs": [],
   "source": [
    "# Initialise parameters\n",
    "S0 = 100      # initial stock price\n",
    "K = 100       # strike price\n",
    "T = 1         # time to maturity in years\n",
    "H = 125       # up-and-out barrier price/value\n",
    "r = 0.06      # annual risk-free rate\n",
    "N = 3         # number of time steps\n",
    "u = 1.1       # up-factor in binomial models\n",
    "d = 1/u       # ensure recombining tree\n",
    "opttype = 'C' # Option Type 'C' or 'P'\n"
   ]
  },
  {
   "cell_type": "markdown",
   "id": "c479c51b-463d-42c6-971b-9abfbd3a3a5b",
   "metadata": {},
   "source": [
    "# Barrier Tree Slow\n",
    "Here we will use for loops to iterate through nodes j at each time step i."
   ]
  },
  {
   "cell_type": "code",
   "execution_count": 4,
   "id": "9f4b52cf-1e3d-4334-a378-ee9412381c57",
   "metadata": {},
   "outputs": [
    {
     "name": "stdout",
     "output_type": "stream",
     "text": [
      "func:'barrier_tree_slow' args:[(100, 1, 100, 125, 0.06, 3, 1.1, 0.9090909090909091), {'opttype': 'C'}] took: 0.0000 sec\n"
     ]
    },
    {
     "data": {
      "text/plain": [
       "4.00026736854323"
      ]
     },
     "execution_count": 4,
     "metadata": {},
     "output_type": "execute_result"
    }
   ],
   "source": [
    "@timing\n",
    "def barrier_tree_slow(K,T,S0,H,r,N,u,d,opttype='C'):\n",
    "    #precompute values\n",
    "    dt = T/N\n",
    "    q = (np.exp(r*dt) - d)/(u-d)\n",
    "    disc = np.exp(-r*dt)\n",
    "    \n",
    "    # initialise asset prices at maturity\n",
    "    S = np.zeros(N+1)\n",
    "    for j in range(0,N+1):\n",
    "        S[j] = S0 * u**j * d**(N-j)\n",
    "        \n",
    "    # option payoff\n",
    "    C = np.zeros(N+1)\n",
    "    for j in range(0,N+1):\n",
    "        if opttype == 'C':\n",
    "            C[j] = max(0, S[j] - K)\n",
    "        else:\n",
    "            C[j] = max(0, K - S[j])\n",
    "            \n",
    "    # check terminal condition payoff\n",
    "    for j in range(0, N+1):\n",
    "        S = S0 * u**j * d**(N-j)\n",
    "        if S >= H:\n",
    "            C[j] = 0\n",
    "            \n",
    "    # backward recursion through the tree\n",
    "    for i in np.arange(N-1,-1,-1):\n",
    "        for j in range(0,i+1):\n",
    "            S = S0 * u**j * d**(i-j)\n",
    "            if S >= H:\n",
    "                C[j] = 0\n",
    "            else:\n",
    "                C[j] = disc * (q*C[j+1]+(1-q)*C[j])\n",
    "    return C[0]\n",
    "\n",
    "barrier_tree_slow(K,T,S0,H,r,N,u,d,opttype='C')\n"
   ]
  },
  {
   "cell_type": "markdown",
   "id": "b22583ae-3905-497d-85e0-6efa6c018d28",
   "metadata": {},
   "source": [
    "# Barrier Tree Fast\n",
    "Now we will vectorise out code using numpy arrays instead of for loops through j nodes."
   ]
  },
  {
   "cell_type": "code",
   "execution_count": 5,
   "id": "03c2ea3b-3be3-4382-87b7-04101d8c9dfa",
   "metadata": {},
   "outputs": [
    {
     "name": "stdout",
     "output_type": "stream",
     "text": [
      "func:'barrier_tree_fast' args:[(100, 1, 100, 125, 0.06, 3, 1.1, 0.9090909090909091), {'opttype': 'C'}] took: 0.0000 sec\n"
     ]
    },
    {
     "data": {
      "text/plain": [
       "4.00026736854323"
      ]
     },
     "execution_count": 5,
     "metadata": {},
     "output_type": "execute_result"
    }
   ],
   "source": [
    "@timing\n",
    "def barrier_tree_fast(K,T,S0,H,r,N,u,d,opttype='C'):\n",
    "    #precompute values\n",
    "    dt = T/N\n",
    "    q = (np.exp(r*dt) - d)/(u-d)\n",
    "    disc = np.exp(-r*dt)\n",
    "    \n",
    "    # initialise asset prices at maturity\n",
    "    S = S0 * d**(np.arange(N,-1,-1)) * u**(np.arange(0,N+1,1))\n",
    "        \n",
    "    # option payoff\n",
    "    if opttype == 'C':\n",
    "        C = np.maximum( S - K, 0 )\n",
    "    else:\n",
    "        C = np.maximum( K - S, 0 )\n",
    "            \n",
    "    # check terminal condition payoff\n",
    "    C[S >= H] = 0\n",
    "            \n",
    "    # backward recursion through the tree\n",
    "    for i in np.arange(N-1,-1,-1):\n",
    "        S = S0 * d**(np.arange(i,-1,-1)) * u**(np.arange(0,i+1,1))\n",
    "        C[:i+1] = disc * ( q * C[1:i+2] + (1-q) * C[0:i+1] )\n",
    "        C = C[:-1]\n",
    "        C[S >= H] = 0\n",
    "    return C[0]\n",
    "\n",
    "barrier_tree_fast(K,T,S0,H,r,N,u,d,opttype='C')"
   ]
  },
  {
   "cell_type": "markdown",
   "id": "e7027b1f-5c39-493d-b0ed-be63126074ef",
   "metadata": {},
   "source": [
    "# Barrier Options with Binomial Tree Slow vs Fast\n",
    "Now we will compare runtimes for slow vs fast. Ignore option price changes as this is impacted with changing the time steps and keeping the u and d factors the same"
   ]
  },
  {
   "cell_type": "code",
   "execution_count": 6,
   "id": "5f16436f-e2eb-4683-be1a-30b41082cb29",
   "metadata": {},
   "outputs": [
    {
     "name": "stdout",
     "output_type": "stream",
     "text": [
      "func:'barrier_tree_slow' args:[(100, 1, 100, 125, 0.06, 3, 1.1, 0.9090909090909091), {'opttype': 'C'}] took: 0.0000 sec\n",
      "func:'barrier_tree_fast' args:[(100, 1, 100, 125, 0.06, 3, 1.1, 0.9090909090909091), {'opttype': 'C'}] took: 0.0000 sec\n",
      "func:'barrier_tree_slow' args:[(100, 1, 100, 125, 0.06, 50, 1.1, 0.9090909090909091), {'opttype': 'C'}] took: 0.0070 sec\n",
      "func:'barrier_tree_fast' args:[(100, 1, 100, 125, 0.06, 50, 1.1, 0.9090909090909091), {'opttype': 'C'}] took: 0.0020 sec\n",
      "func:'barrier_tree_slow' args:[(100, 1, 100, 125, 0.06, 100, 1.1, 0.9090909090909091), {'opttype': 'C'}] took: 0.0253 sec\n",
      "func:'barrier_tree_fast' args:[(100, 1, 100, 125, 0.06, 100, 1.1, 0.9090909090909091), {'opttype': 'C'}] took: 0.0030 sec\n",
      "func:'barrier_tree_slow' args:[(100, 1, 100, 125, 0.06, 1000, 1.1, 0.9090909090909091), {'opttype': 'C'}] took: 2.1102 sec\n",
      "func:'barrier_tree_fast' args:[(100, 1, 100, 125, 0.06, 1000, 1.1, 0.9090909090909091), {'opttype': 'C'}] took: 0.0592 sec\n",
      "func:'barrier_tree_slow' args:[(100, 1, 100, 125, 0.06, 5000, 1.1, 0.9090909090909091), {'opttype': 'C'}] took: 33.0930 sec\n",
      "func:'barrier_tree_fast' args:[(100, 1, 100, 125, 0.06, 5000, 1.1, 0.9090909090909091), {'opttype': 'C'}] took: 0.6205 sec\n"
     ]
    }
   ],
   "source": [
    "for N in [3,50, 100, 1000, 5000]:\n",
    "    barrier_tree_slow(K,T,S0,H,r,N,u,d,opttype='C')\n",
    "    barrier_tree_fast(K,T,S0,H,r,N,u,d,opttype='C')"
   ]
  },
  {
   "cell_type": "code",
   "execution_count": null,
   "id": "26392cd5-92de-42ae-92e9-99e88441ec29",
   "metadata": {},
   "outputs": [],
   "source": []
  }
 ],
 "metadata": {
  "kernelspec": {
   "display_name": "Python 3 (ipykernel)",
   "language": "python",
   "name": "python3"
  },
  "language_info": {
   "codemirror_mode": {
    "name": "ipython",
    "version": 3
   },
   "file_extension": ".py",
   "mimetype": "text/x-python",
   "name": "python",
   "nbconvert_exporter": "python",
   "pygments_lexer": "ipython3",
   "version": "3.9.7"
  }
 },
 "nbformat": 4,
 "nbformat_minor": 5
}
