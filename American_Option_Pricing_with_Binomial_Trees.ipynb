{
 "cells": [
  {
   "cell_type": "markdown",
   "id": "9f8094fb-49c1-4060-bd7c-2a191c5fe3a6",
   "metadata": {},
   "source": [
    "# American Put Options with the Binomial Asset Pricing Model\n",
    "Implementation of a simple slow and fast binomial pricing model in python. We will treat binomial tree as a network with nodes (i,j) with i representing the time steps and j representing the number of ordered price outcome, lowest – or bottom of tree – to highest. <br />\n",
    "1. American Tree Slow\n",
    "2. American Tree Fast\n",
    "# Generic timing wrapper function\n",
    "We will use this to benchmark the two binomial models.\n",
    "\n"
   ]
  },
  {
   "cell_type": "code",
   "execution_count": 1,
   "id": "8cc233c5-1660-4414-ba4c-22ac80ce8470",
   "metadata": {},
   "outputs": [],
   "source": [
    "import numpy as np\n",
    "from functools import wraps\n",
    "from time import time\n"
   ]
  },
  {
   "cell_type": "code",
   "execution_count": 2,
   "id": "ec608182-56a0-4e70-8d42-3254a4d1f457",
   "metadata": {},
   "outputs": [],
   "source": [
    "def timing(f):\n",
    "    @wraps(f)\n",
    "    def wrap(*args, **kw):\n",
    "        ts = time()\n",
    "        result = f(*args, **kw)\n",
    "        te = time()\n",
    "        print('func:%r args:[%r, %r] took: %2.4f sec' % \\\n",
    "          (f.__name__, args, kw, te-ts))\n",
    "        return result\n",
    "    return wrap\n"
   ]
  },
  {
   "cell_type": "markdown",
   "id": "78670b4d-d934-4c06-a037-4faf49d64e4b",
   "metadata": {},
   "source": [
    "# Binomial Tree Representation\n",
    "Stock tree can be represented using nodes $(i,j)$ and intial stock price $S_0$\n",
    "$$S_{i,j}=S_0u^jd^{i−j}$$\n",
    "$C_{i,j}$ represents contract price at each node $(i,j)$. Where $C_{N,j}$ represents final payoff function that we can define.\n",
    "# American Option Characteristics\n",
    "For an American Put Option: <br />\n",
    "if $T=t_N$ then at the terminal nodes, $C^j_N=(K−S^j_N)^{+}$\n",
    "for all other parts of the tree at nodes $(i,j)$ <br /> Max of exercise value or continuation/hold value\n",
    "$$C^j_i=max((K−S^j_N)^{+} , e^{−r\\Delta T}[q^j_iC^{j+1}_{i+1}+(1−q^j_i)C^{j−1}_{i+1}])$$"
   ]
  },
  {
   "cell_type": "code",
   "execution_count": 3,
   "id": "0ed07c98-f891-42f2-b1ab-62ee0da1d557",
   "metadata": {},
   "outputs": [],
   "source": [
    "# Initialise parameters\n",
    "S0 = 100      # initial stock price\n",
    "K = 100       # strike price\n",
    "T = 1         # time to maturity in years\n",
    "r = 0.06      # annual risk-free rate\n",
    "N = 3         # number of time steps\n",
    "u = 1.1       # up-factor in binomial models\n",
    "d = 1/u       # ensure recombining tree\n",
    "opttype = 'P' # Option Type 'C' or 'P'\n"
   ]
  },
  {
   "cell_type": "markdown",
   "id": "c2a707d0-7ad4-4168-b49c-195e8496b287",
   "metadata": {},
   "source": [
    "# American Tree Slow\n",
    "Here we will use for loops to iterate through nodes j at each time step i."
   ]
  },
  {
   "cell_type": "code",
   "execution_count": 4,
   "id": "e833f47e-682f-4319-9c7c-3eb08106c62e",
   "metadata": {},
   "outputs": [
    {
     "name": "stdout",
     "output_type": "stream",
     "text": [
      "func:'american_slow_tree' args:[(100, 1, 100, 0.06, 3, 1.1, 0.9090909090909091), {'opttype': 'P'}] took: 0.0000 sec\n"
     ]
    },
    {
     "data": {
      "text/plain": [
       "4.654588754602527"
      ]
     },
     "execution_count": 4,
     "metadata": {},
     "output_type": "execute_result"
    }
   ],
   "source": [
    " @timing \n",
    "def american_slow_tree(K,T,S0,r,N,u,d,opttype='P'):\n",
    "    #precompute values\n",
    "    dt = T/N\n",
    "    q = (np.exp(r*dt) - d)/(u-d)\n",
    "    disc = np.exp(-r*dt)\n",
    "    \n",
    "    # initialise stock prices at maturity\n",
    "    S = np.zeros(N+1)\n",
    "    for j in range(0, N+1):\n",
    "        S[j] = S0 * u**j * d**(N-j)\n",
    "        \n",
    "    # option payoff \n",
    "    C = np.zeros(N+1)\n",
    "    for j in range(0, N+1):\n",
    "        if opttype == 'P':\n",
    "            C[j] = max(0, K - S[j])\n",
    "        else:\n",
    "            C[j] = max(0, S[j] - K)\n",
    "    \n",
    "    # backward recursion through the tree\n",
    "    for i in np.arange(N-1,-1,-1):\n",
    "        for j in range(0,i+1):\n",
    "            S = S0 * u**j * d**(i-j)\n",
    "            C[j] = disc * ( q*C[j+1] + (1-q)*C[j] )\n",
    "            if opttype == 'P':\n",
    "                C[j] = max(C[j], K - S)\n",
    "            else:\n",
    "                C[j] = max(C[j], S - K)\n",
    "                \n",
    "    return C[0]\n",
    "\n",
    "american_slow_tree(K,T,S0,r,N,u,d,opttype='P')\n"
   ]
  },
  {
   "cell_type": "markdown",
   "id": "54807ad7-d7a5-42a1-9537-c0761c777077",
   "metadata": {},
   "source": [
    "# American Tree Fast\n",
    "Now we will vectorise out code using numpy arrays instead of for loops through j nodes."
   ]
  },
  {
   "cell_type": "code",
   "execution_count": 5,
   "id": "9b93d409-1e92-4b3e-9ea2-50b2a86f003a",
   "metadata": {},
   "outputs": [
    {
     "name": "stdout",
     "output_type": "stream",
     "text": [
      "func:'american_fast_tree' args:[(100, 1, 100, 0.06, 3, 1.1, 0.9090909090909091), {'opttype': 'P'}] took: 0.0000 sec\n"
     ]
    },
    {
     "data": {
      "text/plain": [
       "4.654588754602527"
      ]
     },
     "execution_count": 5,
     "metadata": {},
     "output_type": "execute_result"
    }
   ],
   "source": [
    "@timing \n",
    "def american_fast_tree(K,T,S0,r,N,u,d,opttype='P'):\n",
    "    #precompute values\n",
    "    dt = T/N\n",
    "    q = (np.exp(r*dt) - d)/(u-d)\n",
    "    disc = np.exp(-r*dt)\n",
    "    \n",
    "    # initialise stock prices at maturity\n",
    "    S = S0 * d**(np.arange(N,-1,-1)) * u**(np.arange(0,N+1,1))\n",
    "        \n",
    "    # option payoff \n",
    "    if opttype == 'P':\n",
    "        C = np.maximum(0, K - S)\n",
    "    else:\n",
    "        C = np.maximum(0, S - K)\n",
    "    \n",
    "    # backward recursion through the tree\n",
    "    for i in np.arange(N-1,-1,-1):\n",
    "        S = S0 * d**(np.arange(i,-1,-1)) * u**(np.arange(0,i+1,1))\n",
    "        C[:i+1] = disc * ( q*C[1:i+2] + (1-q)*C[0:i+1] )\n",
    "        C = C[:-1]\n",
    "        if opttype == 'P':\n",
    "            C = np.maximum(C, K - S)\n",
    "        else:\n",
    "            C = np.maximum(C, S - K)\n",
    "                \n",
    "    return C[0]\n",
    "\n",
    "american_fast_tree(K,T,S0,r,N,u,d,opttype='P')\n"
   ]
  },
  {
   "cell_type": "markdown",
   "id": "2bf0867b-5a37-4f0e-b2d7-e8d7f4691a3d",
   "metadata": {},
   "source": [
    "# Binomial Tree Slow vs Fast\n",
    "Now we will compare runtimes for slow vs fast. Ignore option price changes as this is impacted with changing the time steps and keeping the $u$ and $d$ factors the same."
   ]
  },
  {
   "cell_type": "code",
   "execution_count": null,
   "id": "8b8ffa75-656a-45b2-bfbb-8a68015faed7",
   "metadata": {},
   "outputs": [
    {
     "name": "stdout",
     "output_type": "stream",
     "text": [
      "func:'american_fast_tree' args:[(100, 1, 100, 0.06, 3, 1.1, 0.9090909090909091), {'opttype': 'P'}] took: 0.0000 sec\n",
      "func:'american_slow_tree' args:[(100, 1, 100, 0.06, 3, 1.1, 0.9090909090909091), {'opttype': 'P'}] took: 0.0000 sec\n",
      "func:'american_fast_tree' args:[(100, 1, 100, 0.06, 50, 1.1, 0.9090909090909091), {'opttype': 'P'}] took: 0.0033 sec\n",
      "func:'american_slow_tree' args:[(100, 1, 100, 0.06, 50, 1.1, 0.9090909090909091), {'opttype': 'P'}] took: 0.0071 sec\n",
      "func:'american_fast_tree' args:[(100, 1, 100, 0.06, 100, 1.1, 0.9090909090909091), {'opttype': 'P'}] took: 0.0030 sec\n",
      "func:'american_slow_tree' args:[(100, 1, 100, 0.06, 100, 1.1, 0.9090909090909091), {'opttype': 'P'}] took: 0.0250 sec\n",
      "func:'american_fast_tree' args:[(100, 1, 100, 0.06, 1000, 1.1, 0.9090909090909091), {'opttype': 'P'}] took: 0.0632 sec\n",
      "func:'american_slow_tree' args:[(100, 1, 100, 0.06, 1000, 1.1, 0.9090909090909091), {'opttype': 'P'}] took: 2.6330 sec\n",
      "func:'american_fast_tree' args:[(100, 1, 100, 0.06, 5000, 1.1, 0.9090909090909091), {'opttype': 'P'}] took: 1.0261 sec\n"
     ]
    }
   ],
   "source": [
    "for N in [3,50, 100, 1000, 5000]:\n",
    "    american_fast_tree(K,T,S0,r,N,u,d,opttype='P')\n",
    "    american_slow_tree(K,T,S0,r,N,u,d,opttype='P')"
   ]
  },
  {
   "cell_type": "code",
   "execution_count": null,
   "id": "7b0e2392-9958-4549-a307-d18a2308e87a",
   "metadata": {},
   "outputs": [],
   "source": []
  }
 ],
 "metadata": {
  "kernelspec": {
   "display_name": "Python 3 (ipykernel)",
   "language": "python",
   "name": "python3"
  },
  "language_info": {
   "codemirror_mode": {
    "name": "ipython",
    "version": 3
   },
   "file_extension": ".py",
   "mimetype": "text/x-python",
   "name": "python",
   "nbconvert_exporter": "python",
   "pygments_lexer": "ipython3",
   "version": "3.9.7"
  }
 },
 "nbformat": 4,
 "nbformat_minor": 5
}
