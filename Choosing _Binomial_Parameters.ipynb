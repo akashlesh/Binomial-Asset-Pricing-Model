{
 "cells": [
  {
   "cell_type": "markdown",
   "id": "f670f5fe-3b1c-4ef7-b06a-b5d21afd43e9",
   "metadata": {},
   "source": [
    "# Binomial Asset Pricing Model – Choosing Parameters\n",
    "Implementation of a simple slow and fast binomial pricing model in python. We will treat binomial tree as a network with nodes $(i,j)$ with $i$ representing the time steps and $j$ representing the number of ordered price outcome. </br>\n",
    "We will be implementing the following for the binomial_tree_slow algorithm, but it will work with the fast algorithm we made previously:\n",
    "* Cox, Ross and Rubinstein (CRR)\n",
    "* Jarrow and Rudd (JR)\n",
    "* Equal probabilities (EQP)\n",
    "* Trigeorgis (TRG)\n",
    "# Binomial Tree Representation\n",
    "Stock tree can be represented using nodes $(i,j)$ and intial stock price $S_0$\n",
    "$S_{i,j}=S_0u^jd^{i−j}$\n",
    "$C_{i,j}$ represents contract price at each node $(i,j)$. Where $C_{N,j}$ represents final payoff function that we can define.\n",
    "We will price a European Call, so $C_{N,j}=max(S_{N,j}−K,0)$"
   ]
  },
  {
   "cell_type": "code",
   "execution_count": 1,
   "id": "63a56b81-75a4-47c9-9530-50a2d7f169fa",
   "metadata": {},
   "outputs": [],
   "source": [
    "import numpy as np\n",
    "\n",
    "# Initialise parameters\n",
    "S0 = 100      # initial stock price\n",
    "K = 110       # strike price\n",
    "T = 0.5       # time to maturity in years\n",
    "r = 0.06      # annual risk-free rate\n",
    "N = 100       # number of time steps\n",
    "sigma = 0.3   # Annualised stock price volatility\n",
    "opttype = 'C' # Option Type 'C' or 'P'\n"
   ]
  },
  {
   "cell_type": "markdown",
   "id": "7eee76a6-1fae-4916-a809-f3ff569ec124",
   "metadata": {},
   "source": [
    "# Cox, Ross and Rubinstein (CRR) Method\n",
    "Here we choose equal jump sizes"
   ]
  },
  {
   "cell_type": "code",
   "execution_count": 2,
   "id": "cf678281-6894-4d19-93fb-2705bbc97c88",
   "metadata": {},
   "outputs": [
    {
     "data": {
      "text/plain": [
       "5.77342630682585"
      ]
     },
     "execution_count": 2,
     "metadata": {},
     "output_type": "execute_result"
    }
   ],
   "source": [
    "def CRR_method(K,T,S0,r,N,sigma,opttype='C'):\n",
    "    #precomute constants\n",
    "    dt = T/N\n",
    "    u = np.exp(sigma*np.sqrt(dt))\n",
    "    d = 1/u\n",
    "    q = (np.exp(r*dt) - d) / (u-d)\n",
    "    disc = np.exp(-r*dt)\n",
    "    \n",
    "    # initialise asset prices at maturity - Time step N\n",
    "    S = np.zeros(N+1)\n",
    "    S[0] = S0*d**N\n",
    "    for j in range(1,N+1):\n",
    "        S[j] = S[j-1]*u/d\n",
    "    \n",
    "    # initialise option values at maturity\n",
    "    C = np.zeros(N+1)\n",
    "    for j in range(0,N+1):\n",
    "        if opttype == 'C':\n",
    "            C[j] = max(0, S[j]-K)\n",
    "        else:\n",
    "            C[j] = max(0, K - S[j])\n",
    "        \n",
    "    # step backwards through tree\n",
    "    for i in np.arange(N,0,-1):\n",
    "        for j in range(0,i):\n",
    "            C[j] = disc * ( q*C[j+1] + (1-q)*C[j] )\n",
    "    \n",
    "    return C[0]\n",
    "\n",
    "CRR_method(K,T,S0,r,N,sigma,opttype='C')\n"
   ]
  },
  {
   "cell_type": "markdown",
   "id": "c59b2a9b-8a1f-40a8-a098-30b8161e9242",
   "metadata": {},
   "source": [
    "# Jarrow and Rudd (JR) Method\n",
    "Here we choose equal risk-neutral probabilities"
   ]
  },
  {
   "cell_type": "code",
   "execution_count": 3,
   "id": "9d500a90-9f63-46f9-a700-290586dd8262",
   "metadata": {},
   "outputs": [
    {
     "data": {
      "text/plain": [
       "5.754089414567556"
      ]
     },
     "execution_count": 3,
     "metadata": {},
     "output_type": "execute_result"
    }
   ],
   "source": [
    "def JR_method(K,T,S0,r,N,sigma,opttype='C'):\n",
    "    #precomute constants\n",
    "    dt = T/N\n",
    "    nu = r - 0.5*sigma**2\n",
    "    u = np.exp(nu*dt + sigma*np.sqrt(dt))\n",
    "    d = np.exp(nu*dt - sigma*np.sqrt(dt))\n",
    "    q = 0.5\n",
    "    disc = np.exp(-r*dt)\n",
    "    \n",
    "    # initialise asset prices at maturity - Time step N\n",
    "    S = np.zeros(N+1)\n",
    "    S[0] = S0*d**N\n",
    "    for j in range(1,N+1):\n",
    "        S[j] = S[j-1]*u/d\n",
    "    \n",
    "    # initialise option values at maturity\n",
    "    C = np.zeros(N+1)\n",
    "    for j in range(0,N+1):\n",
    "        if opttype == 'C':\n",
    "            C[j] = max(0, S[j]-K)\n",
    "        else:\n",
    "            C[j] = max(0, K - S[j])\n",
    "        \n",
    "    # step backwards through tree\n",
    "    for i in np.arange(N,0,-1):\n",
    "        for j in range(0,i):\n",
    "            C[j] = disc * ( q*C[j+1] + (1-q)*C[j] )\n",
    "    \n",
    "    return C[0]\n",
    "\n",
    "JR_method(K,T,S0,r,N,sigma,opttype='C')\n"
   ]
  },
  {
   "cell_type": "markdown",
   "id": "ed2ea2b2-b42b-436b-9100-9e5b6021bfbb",
   "metadata": {},
   "source": [
    "# Equal Probabilities (EQP) Method\n",
    "Here we choose equal risk-neutral probabilities, under logarithmic asset pricing tree"
   ]
  },
  {
   "cell_type": "code",
   "execution_count": 4,
   "id": "244dba6b-4af1-4e16-a63b-10cb7f34aaa6",
   "metadata": {},
   "outputs": [
    {
     "data": {
      "text/plain": [
       "5.7365844788666545"
      ]
     },
     "execution_count": 4,
     "metadata": {},
     "output_type": "execute_result"
    }
   ],
   "source": [
    "def EQP_method(K,T,S0,r,N,sigma,opttype='C'):\n",
    "    #precomute constants\n",
    "    dt = T/N\n",
    "    nu = r - 0.5*sigma**2\n",
    "    dxu = 0.5*nu*dt + 0.5*np.sqrt(4*sigma**2 * dt - 3*nu**2 * dt**2)\n",
    "    dxd = 1.5*nu*dt - 0.5*np.sqrt(4*sigma**2 * dt - 3*nu**2 * dt**2)\n",
    "    pu = 0.5\n",
    "    pd = 1-pu\n",
    "    disc = np.exp(-r*dt)\n",
    "    \n",
    "    # initialise asset prices at maturity - Time step N\n",
    "    S = np.zeros(N+1)\n",
    "    S[0] = S0*np.exp(N*dxd)\n",
    "    for j in range(1,N+1):\n",
    "        S[j] = S[j-1]*np.exp(dxu - dxd)\n",
    "    \n",
    "    # initialise option values at maturity\n",
    "    C = np.zeros(N+1)\n",
    "    for j in range(0,N+1):\n",
    "        if opttype == 'C':\n",
    "            C[j] = max(0, S[j]-K)\n",
    "        else:\n",
    "            C[j] = max(0, K - S[j])\n",
    "        \n",
    "    # step backwards through tree\n",
    "    for i in np.arange(N,0,-1):\n",
    "        for j in range(0,i):\n",
    "            C[j] = disc * ( pu*C[j+1] + pd*C[j] )\n",
    "    \n",
    "    return C[0]\n",
    "\n",
    "EQP_method(K,T,S0,r,N,sigma,opttype='C')\n"
   ]
  },
  {
   "cell_type": "markdown",
   "id": "434d3b79-0d57-4281-9cfb-70fd07330223",
   "metadata": {},
   "source": [
    "# Trigeorgis (TRG) Method\n",
    "Here we choose equal jump sizes, under logarithmic asset pricing tree"
   ]
  },
  {
   "cell_type": "code",
   "execution_count": 5,
   "id": "922d898b-3a99-47d5-b27e-d8bc8410ce00",
   "metadata": {},
   "outputs": [
    {
     "data": {
      "text/plain": [
       "5.773359020180677"
      ]
     },
     "execution_count": 5,
     "metadata": {},
     "output_type": "execute_result"
    }
   ],
   "source": [
    "def TRG_method(K,T,S0,r,N,sigma,opttype='C'):\n",
    "    #precomute constants\n",
    "    dt = T/N\n",
    "    nu = r - 0.5*sigma**2\n",
    "    dxu = np.sqrt(sigma**2 * dt + nu**2 * dt**2)\n",
    "    dxd = -dxu\n",
    "    pu = 0.5 + 0.5*nu*dt/dxu\n",
    "    pd = 1-pu\n",
    "    disc = np.exp(-r*dt)\n",
    "    \n",
    "    # initialise asset prices at maturity - Time step N\n",
    "    S = np.zeros(N+1)\n",
    "    S[0] = S0*np.exp(N*dxd)\n",
    "    for j in range(1,N+1):\n",
    "        S[j] = S[j-1]*np.exp(dxu - dxd)\n",
    "    \n",
    "    # initialise option values at maturity\n",
    "    C = np.zeros(N+1)\n",
    "    for j in range(0,N+1):\n",
    "        if opttype == 'C':\n",
    "            C[j] = max(0, S[j]-K)\n",
    "        else:\n",
    "            C[j] = max(0, K - S[j])\n",
    "        \n",
    "    # step backwards through tree\n",
    "    for i in np.arange(N,0,-1):\n",
    "        for j in range(0,i):\n",
    "            C[j] = disc * ( pu*C[j+1] + pd*C[j] )\n",
    "    \n",
    "    return C[0]\n",
    "\n",
    "TRG_method(K,T,S0,r,N,sigma,opttype='C')\n"
   ]
  },
  {
   "cell_type": "markdown",
   "id": "af9c3129-bd3c-47f8-aa8e-16b81c4003ec",
   "metadata": {},
   "source": [
    "# Comparision of Methods\n",
    "Now we will compare convergence as function of time steps"
   ]
  },
  {
   "cell_type": "code",
   "execution_count": 6,
   "id": "216d2459-62ba-43dd-87a9-2448f17637fd",
   "metadata": {},
   "outputs": [
    {
     "data": {
      "image/png": "[encoded data removed]",
      "text/plain": [
       "<Figure size 640x480 with 1 Axes>"
      ]
     },
     "metadata": {},
     "output_type": "display_data"
    }
   ],
   "source": [
    "from py_vollib.black_scholes import black_scholes as bs\n",
    "import matplotlib.pyplot as plt\n",
    "\n",
    "## call option with different steps \n",
    "CRR, JR, EQP, TRG = [],[],[],[]\n",
    "\n",
    "periods = range(10,500,10)\n",
    "for N in periods:\n",
    "    CRR.append(CRR_method(K,T,S0,r,N,sigma,opttype='C'))\n",
    "    JR.append(JR_method(K,T,S0,r,N,sigma,opttype='C'))\n",
    "    EQP.append(EQP_method(K,T,S0,r,N,sigma,opttype='C'))\n",
    "    TRG.append(TRG_method(K,T,S0,r,N,sigma,opttype='C'))\n",
    "    \n",
    "BS = [bs('c', S0, K, T, r, sigma) for i in periods]\n",
    "\n",
    "plt.plot(periods, CRR, label='Cox_Ross_Rubinstein')\n",
    "plt.plot(periods, JR, label='Jarrow_Rudd')\n",
    "plt.plot(periods, EQP, label='EQP')\n",
    "plt.plot(periods, TRG, 'r--',label='Trigeorgis')\n",
    "plt.plot(periods, BS, 'k',label='Black-Scholes')\n",
    "plt.legend(loc='upper right')\n",
    "plt.show()\n"
   ]
  },
  {
   "cell_type": "code",
   "execution_count": null,
   "id": "bfd952d9-a187-481f-924d-1d4aec6bf74f",
   "metadata": {},
   "outputs": [],
   "source": []
  }
 ],
 "metadata": {
  "kernelspec": {
   "display_name": "Python 3 (ipykernel)",
   "language": "python",
   "name": "python3"
  },
  "language_info": {
   "codemirror_mode": {
    "name": "ipython",
    "version": 3
   },
   "file_extension": ".py",
   "mimetype": "text/x-python",
   "name": "python",
   "nbconvert_exporter": "python",
   "pygments_lexer": "ipython3",
   "version": "3.9.7"
  }
 },
 "nbformat": 4,
 "nbformat_minor": 5
}
